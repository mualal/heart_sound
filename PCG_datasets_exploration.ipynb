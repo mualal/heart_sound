{
 "cells": [
  {
   "cell_type": "markdown",
   "id": "ef984ed3",
   "metadata": {},
   "source": [
    "# Исследование наборов фонокардиограмм (ФКГ)"
   ]
  },
  {
   "cell_type": "markdown",
   "id": "60eaca0e",
   "metadata": {},
   "source": [
    "Последовательно "
   ]
  },
  {
   "cell_type": "markdown",
   "id": "c3a4f82e",
   "metadata": {},
   "source": [
    "### Загрузка набора ФКГ с состязаний Physionet Challenge"
   ]
  },
  {
   "cell_type": "code",
   "execution_count": 3,
   "id": "66fd667b",
   "metadata": {},
   "outputs": [],
   "source": [
    "import os\n",
    "dataset_name = 'PCG_physionet_challenge_2016'  # название исследуемого набора ФКГ\n",
    "datapath = os.path.join('datasets', dataset_name, '')"
   ]
  },
  {
   "cell_type": "code",
   "execution_count": 4,
   "id": "238111d8",
   "metadata": {},
   "outputs": [
    {
     "name": "stdout",
     "output_type": "stream",
     "text": [
      "Downloading training.zip\n",
      "Unzipping training.zip\n",
      "Downloading validation.zip\n",
      "Unzipping validation.zip\n"
     ]
    }
   ],
   "source": [
    "import urllib.request\n",
    "import zipfile\n",
    "DOWNLOAD_ROOT = 'https://archive.physionet.org/pn3/challenge/2016/'\n",
    "os.makedirs(datapath, exist_ok=True)\n",
    "for filename in ('training.zip','validation.zip'):\n",
    "    print('Downloading', filename)\n",
    "    url = DOWNLOAD_ROOT + filename\n",
    "    urllib.request.urlretrieve(url, datapath + filename)\n",
    "    print('Unzipping', filename)\n",
    "    zipfile.ZipFile(datapath + filename).extractall(datapath + os.path.splitext(filename)[0])"
   ]
  },
  {
   "cell_type": "code",
   "execution_count": null,
   "id": "37ea0a32",
   "metadata": {},
   "outputs": [],
   "source": []
  },
  {
   "cell_type": "code",
   "execution_count": null,
   "id": "97f674c2",
   "metadata": {},
   "outputs": [],
   "source": []
  }
 ],
 "metadata": {
  "kernelspec": {
   "display_name": "Python 3 (ipykernel)",
   "language": "python",
   "name": "python3"
  },
  "language_info": {
   "codemirror_mode": {
    "name": "ipython",
    "version": 3
   },
   "file_extension": ".py",
   "mimetype": "text/x-python",
   "name": "python",
   "nbconvert_exporter": "python",
   "pygments_lexer": "ipython3",
   "version": "3.8.12"
  }
 },
 "nbformat": 4,
 "nbformat_minor": 5
}

{
 "cells": [
  {
   "cell_type": "markdown",
   "metadata": {},
   "source": [
    "# Попытка закодить классификацию фонокардиограмм"
   ]
  },
  {
   "cell_type": "markdown",
   "metadata": {},
   "source": [
    "Фонокардиограммы для обучения и проверки (тестирования) находятся в папке PCG_recordings, сформированной при запуске jupyter ноутбука PCG_systematization.ipynb.\n",
    "\n",
    "Ноутбук составлен на основе кода для классификации произнесённых вслух цифр с сайта https://www.kymat.io/gallery_1d/plot_classif_torch.html#sphx-glr-gallery-1d-plot-classif-torch-py. Для датасета записанных на диктофон цифр на сайте представлена точность 98% на тестовой выборке."
   ]
  },
  {
   "cell_type": "code",
   "execution_count": 1,
   "metadata": {},
   "outputs": [],
   "source": [
    "# буду использовать PyTorch для обучения модели\n",
    "import torch\n",
    "\n",
    "# на основе коэффициентов wavelet scattering буду строить классификатор\n",
    "# в виде логистической регрессии\n",
    "from torch.nn import Linear, NLLLoss, LogSoftmax, Sequential\n",
    "from torch.optim import Adam\n",
    "\n",
    "# далее импортируются библиотеки для чтения wav файлов и работы\n",
    "# с получившимися массивами\n",
    "from scipy.io import wavfile\n",
    "import os\n",
    "import numpy as np\n",
    "\n",
    "# чтобы представить результаты обучения и прогноза\n",
    "from sklearn.metrics import confusion_matrix\n",
    "import seaborn as sns\n",
    "import matplotlib.pyplot as plt\n",
    "\n",
    "# wavelet scattering transform для извлечения фич из сигналов\n",
    "from kymatio.torch import Scattering1D"
   ]
  },
  {
   "cell_type": "markdown",
   "metadata": {},
   "source": [
    "Задаю длину входного сигнала. Фонокардиограммы с меньшей длиной будут дополнены нулями, а записи с большей длиной будут обрезаны. Дискретизация всех записей в датасете 2000 Гц. Таким образом, фиксирую продолжительность сигнала около 16 секунд."
   ]
  },
  {
   "cell_type": "code",
   "execution_count": 2,
   "metadata": {},
   "outputs": [],
   "source": [
    "T = 2**15"
   ]
  },
  {
   "cell_type": "markdown",
   "metadata": {},
   "source": [
    "Максимальный масштаб wavelet scattering transform $\\left(=2^J\\right)$ и количество вейвлетов на октаву $Q$"
   ]
  },
  {
   "cell_type": "code",
   "execution_count": 3,
   "metadata": {},
   "outputs": [],
   "source": [
    "J = 8\n",
    "Q = 12"
   ]
  },
  {
   "cell_type": "markdown",
   "metadata": {},
   "source": [
    "Перед применением логарифма к коэффициентам wavelet scattering буду прибавлять к ним небольшую добавку, чтобы не было ошибки при операции log(0)"
   ]
  },
  {
   "cell_type": "code",
   "execution_count": 4,
   "metadata": {},
   "outputs": [],
   "source": [
    "log_eps = 1e-6"
   ]
  },
  {
   "cell_type": "markdown",
   "metadata": {},
   "source": [
    "Если есть CUDA, то использую"
   ]
  },
  {
   "cell_type": "code",
   "execution_count": 5,
   "metadata": {},
   "outputs": [],
   "source": [
    "use_cuda = torch.cuda.is_available()"
   ]
  },
  {
   "cell_type": "markdown",
   "metadata": {},
   "source": [
    "Делаю случайность не случайной (чтобы при повторном запуске кода, результаты не менялись)"
   ]
  },
  {
   "cell_type": "code",
   "execution_count": 6,
   "metadata": {},
   "outputs": [
    {
     "data": {
      "text/plain": [
       "<torch._C.Generator at 0x11267ef50>"
      ]
     },
     "execution_count": 6,
     "metadata": {},
     "output_type": "execute_result"
    }
   ],
   "source": [
    "torch.manual_seed(42)"
   ]
  },
  {
   "cell_type": "markdown",
   "metadata": {},
   "source": [
    "## Загрузка данных"
   ]
  },
  {
   "cell_type": "markdown",
   "metadata": {},
   "source": [
    "Указываю путь к папке с фонокардиограммами (текущий путь + PCG_recordings) и создаю лист с названием всех ФКГ "
   ]
  },
  {
   "cell_type": "code",
   "execution_count": 7,
   "metadata": {},
   "outputs": [],
   "source": [
    "path_dataset = os.getcwd() + '/PCG_recordings'\n",
    "files = os.listdir(path_dataset)"
   ]
  },
  {
   "cell_type": "markdown",
   "metadata": {},
   "source": [
    "В имеющемся датасете количество записей ритмов без отклонений более чем в 3.5 раза превышает количество записей ритмов с отклонениями от нормы. Поэтому для начала удалю из текущего списка файлов ритмы без отклонений так, чтобы количество было примерно равным. В дальнейшей работе над проектом есть идея реализовать разделение исходных файлов ФКГ на более мелкие (короткие по длительности около 6 секунд) тем самым, увеличив количество записей для обучения и тестирования"
   ]
  },
  {
   "cell_type": "code",
   "execution_count": 8,
   "metadata": {},
   "outputs": [],
   "source": [
    "files_for_del = []\n",
    "flag = 0\n",
    "for file in files:\n",
    "    if file.startswith('0_'):\n",
    "        flag = flag + 1\n",
    "        if flag % 4 != 0:\n",
    "            files_for_del.append(file)"
   ]
  },
  {
   "cell_type": "code",
   "execution_count": 9,
   "metadata": {},
   "outputs": [],
   "source": [
    "for file in files_for_del:\n",
    "    #print(file)\n",
    "    files.remove(file)"
   ]
  },
  {
   "cell_type": "markdown",
   "metadata": {},
   "source": [
    "Объявляю матрицы, которые будут содержать все рассматриваемые ФКГ, обозначения (с отклонением или без), а также принадлежность к выборке (обучающей или тестовой)."
   ]
  },
  {
   "cell_type": "code",
   "execution_count": 10,
   "metadata": {},
   "outputs": [],
   "source": [
    "x_all = torch.zeros(len(files), T, dtype=torch.float32)\n",
    "y_all = torch.zeros(len(files), dtype=torch.int64)\n",
    "subset = torch.zeros(len(files), dtype=torch.int64)"
   ]
  },
  {
   "cell_type": "code",
   "execution_count": 11,
   "metadata": {},
   "outputs": [],
   "source": [
    "for k, f in enumerate(files):\n",
    "    basename = f.split('.')[0]\n",
    "    \n",
    "    # Обозначение (0 - ритм без отклонений, 1 - ритм с отклонением от нормы)\n",
    "    y = int(basename.split('_')[0])\n",
    "\n",
    "    # Разделение на обучающую и тестовую выборки\n",
    "    if basename.split('_')[2] == 'train':\n",
    "        subset[k] = 0\n",
    "    else:\n",
    "        subset[k] = 1\n",
    "\n",
    "    # Загрузка ритма в виде массива и его нормализация\n",
    "    _, x = wavfile.read(os.path.join(path_dataset, f))\n",
    "    x = np.asarray(x, dtype='float')\n",
    "    #x = butter_bandpass_filter(x, 60, 400, 2000, order=6)\n",
    "    x /= np.max(np.abs(x))\n",
    "\n",
    "    # Преобразование numpy массива в PyTorch Tensor\n",
    "    x = torch.from_numpy(x)\n",
    "\n",
    "    # Обрезка, если ФКГ дольше заданного промежутка\n",
    "    if x.numel() > T:\n",
    "        x = x[:T]\n",
    "    \n",
    "    # Дополнение, если ФКГ короче заданного промежутка\n",
    "    start = (T - x.numel()) // 2\n",
    "\n",
    "    x_all[k,start:start + x.numel()] = x\n",
    "    y_all[k] = y"
   ]
  },
  {
   "cell_type": "code",
   "execution_count": 12,
   "metadata": {},
   "outputs": [
    {
     "data": {
      "text/plain": [
       "[<matplotlib.lines.Line2D at 0x144ae9dc0>]"
      ]
     },
     "execution_count": 12,
     "metadata": {},
     "output_type": "execute_result"
    },
    {
     "data": {
      "image/png": "[encoded data removed]",
      "text/plain": [
       "<Figure size 432x288 with 1 Axes>"
      ]
     },
     "metadata": {
      "needs_background": "light"
     },
     "output_type": "display_data"
    }
   ],
   "source": [
    "# График одной из ФКГ\n",
    "plt.plot(x_all[400])"
   ]
  },
  {
   "cell_type": "markdown",
   "metadata": {},
   "source": [
    "## Log-scattering преобразование"
   ]
  },
  {
   "cell_type": "markdown",
   "metadata": {},
   "source": [
    "Создаю объект Scattering1D, который будет использоваться для расчёта коэффициентов wavelet scattering"
   ]
  },
  {
   "cell_type": "code",
   "execution_count": 13,
   "metadata": {},
   "outputs": [],
   "source": [
    "scattering = Scattering1D(J, T, Q)"
   ]
  },
  {
   "cell_type": "markdown",
   "metadata": {},
   "source": [
    "Если есть CUDA, то использую"
   ]
  },
  {
   "cell_type": "code",
   "execution_count": 14,
   "metadata": {},
   "outputs": [],
   "source": [
    "if use_cuda:\n",
    "    scattering.cuda()\n",
    "    x_all = x_all.cuda()\n",
    "    y_all = y_all.cuda()"
   ]
  },
  {
   "cell_type": "markdown",
   "metadata": {},
   "source": [
    "Расчёт scattering transform для всех сигналов, выбранных из датасета. Занимает около 5 минут"
   ]
  },
  {
   "cell_type": "code",
   "execution_count": 15,
   "metadata": {},
   "outputs": [],
   "source": [
    "Sx_all = scattering.forward(x_all)"
   ]
  },
  {
   "cell_type": "markdown",
   "metadata": {},
   "source": [
    "Так как scattering коэффициенты нулевого порядка не несут полезной информации, то удаляю их "
   ]
  },
  {
   "cell_type": "code",
   "execution_count": 16,
   "metadata": {},
   "outputs": [],
   "source": [
    "Sx_all = Sx_all[:,1:,:]"
   ]
  },
  {
   "cell_type": "markdown",
   "metadata": {},
   "source": [
    "Чтобы улучшить различимость, беру логарифм от scattering коэффициентов (log-scattering transform)"
   ]
  },
  {
   "cell_type": "code",
   "execution_count": 17,
   "metadata": {},
   "outputs": [],
   "source": [
    "Sx_all = torch.log(torch.abs(Sx_all) + log_eps)"
   ]
  },
  {
   "cell_type": "markdown",
   "metadata": {},
   "source": [
    "Далее усредняю по последнему измерению (времени), чтобы получить инвариантное (по отношению ко сдвигу во времени) представление"
   ]
  },
  {
   "cell_type": "code",
   "execution_count": 18,
   "metadata": {},
   "outputs": [],
   "source": [
    "Sx_all = torch.mean(Sx_all, dim=-1)"
   ]
  },
  {
   "cell_type": "code",
   "execution_count": 19,
   "metadata": {},
   "outputs": [
    {
     "data": {
      "text/plain": [
       "336"
      ]
     },
     "execution_count": 19,
     "metadata": {},
     "output_type": "execute_result"
    }
   ],
   "source": [
    "# количество фич, извлечённых с помощью wavelet scattering\n",
    "len(Sx_all[400])"
   ]
  },
  {
   "cell_type": "markdown",
   "metadata": {},
   "source": [
    "## Обучение классификатора на основе логистической регрессии"
   ]
  },
  {
   "cell_type": "markdown",
   "metadata": {},
   "source": [
    "Извлечение фичей и лейблов тренировочной выборки."
   ]
  },
  {
   "cell_type": "code",
   "execution_count": 20,
   "metadata": {},
   "outputs": [],
   "source": [
    "Sx_tr, y_tr = Sx_all[subset == 0], y_all[subset == 0]"
   ]
  },
  {
   "cell_type": "markdown",
   "metadata": {},
   "source": [
    "Стандартизация данных. В последующем для тестовой выборки необходимо сделать такую же"
   ]
  },
  {
   "cell_type": "code",
   "execution_count": 21,
   "metadata": {},
   "outputs": [],
   "source": [
    "mu_tr = Sx_tr.mean(dim=0)\n",
    "std_tr = Sx_tr.std(dim=0)\n",
    "Sx_tr = (Sx_tr - mu_tr) / std_tr"
   ]
  },
  {
   "cell_type": "markdown",
   "metadata": {},
   "source": [
    "Задаю модель логистической регрессии"
   ]
  },
  {
   "cell_type": "code",
   "execution_count": 22,
   "metadata": {},
   "outputs": [],
   "source": [
    "num_input = Sx_tr.shape[-1]\n",
    "num_classes = y_tr.cpu().unique().numel()\n",
    "model = Sequential(Linear(num_input, num_classes), LogSoftmax(dim=1))\n",
    "optimizer = Adam(model.parameters())\n",
    "criterion = NLLLoss()\n",
    "\n",
    "# если доступен CUDA, то использую\n",
    "if use_cuda:\n",
    "    model = model.cuda()\n",
    "    criterion = criterion.cuda()"
   ]
  },
  {
   "cell_type": "code",
   "execution_count": 23,
   "metadata": {},
   "outputs": [],
   "source": [
    "# параметры обучения\n",
    "# количество сигналов, используемых на каждом шаге градиентного спуска\n",
    "batch_size = 32\n",
    "# количество эпох\n",
    "num_epochs = 40\n",
    "# скорость обучения для Adam\n",
    "lr = 1e-4"
   ]
  },
  {
   "cell_type": "code",
   "execution_count": 24,
   "metadata": {},
   "outputs": [],
   "source": [
    "# количество батчей\n",
    "nsamples = Sx_tr.shape[0]\n",
    "nbatches = nsamples // batch_size"
   ]
  },
  {
   "cell_type": "code",
   "execution_count": 97,
   "metadata": {},
   "outputs": [
    {
     "name": "stdout",
     "output_type": "stream",
     "text": [
      "Epoch 0, average loss = 0.188, accuracy = 0.913\n",
      "Epoch 1, average loss = 0.180, accuracy = 0.925\n",
      "Epoch 2, average loss = 0.203, accuracy = 0.900\n",
      "Epoch 3, average loss = 0.179, accuracy = 0.919\n",
      "Epoch 4, average loss = 0.178, accuracy = 0.919\n",
      "Epoch 5, average loss = 0.191, accuracy = 0.910\n",
      "Epoch 6, average loss = 0.178, accuracy = 0.926\n",
      "Epoch 7, average loss = 0.184, accuracy = 0.917\n",
      "Epoch 8, average loss = 0.180, accuracy = 0.921\n",
      "Epoch 9, average loss = 0.181, accuracy = 0.919\n",
      "Epoch 10, average loss = 0.177, accuracy = 0.921\n",
      "Epoch 11, average loss = 0.179, accuracy = 0.922\n",
      "Epoch 12, average loss = 0.176, accuracy = 0.925\n",
      "Epoch 13, average loss = 0.180, accuracy = 0.917\n",
      "Epoch 14, average loss = 0.193, accuracy = 0.909\n",
      "Epoch 15, average loss = 0.183, accuracy = 0.918\n",
      "Epoch 16, average loss = 0.176, accuracy = 0.925\n",
      "Epoch 17, average loss = 0.204, accuracy = 0.907\n",
      "Epoch 18, average loss = 0.176, accuracy = 0.920\n",
      "Epoch 19, average loss = 0.179, accuracy = 0.920\n",
      "Epoch 20, average loss = 0.177, accuracy = 0.918\n",
      "Epoch 21, average loss = 0.177, accuracy = 0.924\n",
      "Epoch 22, average loss = 0.177, accuracy = 0.918\n",
      "Epoch 23, average loss = 0.185, accuracy = 0.917\n",
      "Epoch 24, average loss = 0.176, accuracy = 0.925\n",
      "Epoch 25, average loss = 0.177, accuracy = 0.921\n",
      "Epoch 26, average loss = 0.202, accuracy = 0.914\n",
      "Epoch 27, average loss = 0.179, accuracy = 0.917\n",
      "Epoch 28, average loss = 0.189, accuracy = 0.916\n",
      "Epoch 29, average loss = 0.178, accuracy = 0.922\n",
      "Epoch 30, average loss = 0.176, accuracy = 0.923\n",
      "Epoch 31, average loss = 0.181, accuracy = 0.918\n",
      "Epoch 32, average loss = 0.176, accuracy = 0.922\n",
      "Epoch 33, average loss = 0.178, accuracy = 0.924\n",
      "Epoch 34, average loss = 0.180, accuracy = 0.918\n",
      "Epoch 35, average loss = 0.178, accuracy = 0.918\n",
      "Epoch 36, average loss = 0.177, accuracy = 0.919\n",
      "Epoch 37, average loss = 0.176, accuracy = 0.923\n",
      "Epoch 38, average loss = 0.182, accuracy = 0.917\n",
      "Epoch 39, average loss = 0.192, accuracy = 0.915\n"
     ]
    }
   ],
   "source": [
    "# обучение классификатора\n",
    "for e in range(num_epochs):\n",
    "    # случайная перестановка данных\n",
    "    perm = torch.randperm(nsamples)\n",
    "    if use_cuda:\n",
    "        perm = perm.cuda()\n",
    "\n",
    "        \n",
    "    for i in range(nbatches):\n",
    "        idx = perm[i * batch_size : (i+1) * batch_size]\n",
    "        model.zero_grad()\n",
    "        resp = model.forward(Sx_tr[idx])\n",
    "        loss = criterion(resp, y_tr[idx])\n",
    "        loss.backward()\n",
    "        optimizer.step()\n",
    "\n",
    "        \n",
    "    resp = model.forward(Sx_tr)\n",
    "    avg_loss = criterion(resp, y_tr)\n",
    "\n",
    "\n",
    "    y_hat = resp.argmax(dim=1)\n",
    "    accuracy = (y_tr == y_hat).float().mean()\n",
    "\n",
    "    print('Epoch {}, average loss = {:1.3f}, accuracy = {:1.3f}'.format(\n",
    "        e, avg_loss, accuracy))"
   ]
  },
  {
   "cell_type": "markdown",
   "metadata": {},
   "source": [
    "## Тестирование обученного классификатора"
   ]
  },
  {
   "cell_type": "code",
   "execution_count": 98,
   "metadata": {},
   "outputs": [],
   "source": [
    "Sx_te, y_te = Sx_all[subset == 1], y_all[subset == 1]"
   ]
  },
  {
   "cell_type": "code",
   "execution_count": 99,
   "metadata": {},
   "outputs": [],
   "source": [
    "Sx_te = (Sx_te - mu_tr) / std_tr"
   ]
  },
  {
   "cell_type": "code",
   "execution_count": 100,
   "metadata": {},
   "outputs": [
    {
     "name": "stdout",
     "output_type": "stream",
     "text": [
      "TEST, average loss = 0.598, accuracy = 0.809\n"
     ]
    }
   ],
   "source": [
    "resp = model.forward(Sx_te)\n",
    "avg_loss = criterion(resp, y_te)\n",
    "\n",
    "# Попытка (на основе обученного класификатора) на тестовой выборке определить, \n",
    "# есть ли отклонение от нормы\n",
    "\n",
    "y_hat = resp.argmax(dim=1)\n",
    "accu = (y_te == y_hat).float().mean()\n",
    "\n",
    "print('TEST, average loss = {:1.3f}, accuracy = {:1.3f}'.format(\n",
    "      avg_loss, accu))"
   ]
  },
  {
   "cell_type": "code",
   "execution_count": 101,
   "metadata": {},
   "outputs": [
    {
     "data": {
      "text/plain": [
       "array([[ 21,  22],\n",
       "       [ 15, 136]])"
      ]
     },
     "execution_count": 101,
     "metadata": {},
     "output_type": "execute_result"
    }
   ],
   "source": [
    "predicted_categories = y_hat.cpu().numpy()\n",
    "actual_categories = y_te.cpu().numpy()\n",
    "\n",
    "confusion = confusion_matrix(actual_categories, predicted_categories)\n",
    "\n",
    "confusion"
   ]
  },
  {
   "cell_type": "code",
   "execution_count": 102,
   "metadata": {},
   "outputs": [
    {
     "data": {
      "image/png": "[encoded data removed]",
      "text/plain": [
       "<Figure size 432x288 with 2 Axes>"
      ]
     },
     "metadata": {
      "needs_background": "light"
     },
     "output_type": "display_data"
    }
   ],
   "source": [
    "ax = sns.heatmap(confusion,annot=True,cmap='Blues')\n",
    "ax.set_title('PCG Confusion Matrix')\n",
    "ax.set_xlabel('\\nPredicted Values')\n",
    "ax.set_ylabel('Actual Values')\n",
    "ax.xaxis.set_ticklabels(['Normal','Abnormal'])\n",
    "ax.yaxis.set_ticklabels(['Normal','Abnormal'])\n",
    "plt.show()"
   ]
  },
  {
   "cell_type": "code",
   "execution_count": null,
   "metadata": {},
   "outputs": [],
   "source": []
  }
 ],
 "metadata": {
  "kernelspec": {
   "display_name": "Python 3",
   "language": "python",
   "name": "python3"
  },
  "language_info": {
   "codemirror_mode": {
    "name": "ipython",
    "version": 3
   },
   "file_extension": ".py",
   "mimetype": "text/x-python",
   "name": "python",
   "nbconvert_exporter": "python",
   "pygments_lexer": "ipython3",
   "version": "3.8.3"
  }
 },
 "nbformat": 4,
 "nbformat_minor": 4
}

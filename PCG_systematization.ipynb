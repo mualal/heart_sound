{
 "cells": [
  {
   "cell_type": "markdown",
   "metadata": {},
   "source": [
    "# Систематизация фонокардиограмм"
   ]
  },
  {
   "cell_type": "markdown",
   "metadata": {},
   "source": [
    "Код для систематизации фонокардиограмм с сайта https://archive.physionet.org/pn3/challenge/2016/ .\n",
    "\n",
    "Фонокардиограммы (ФКГ) разбросаны по папкам. Цель: собрать всех в одну папку, а в названиях файлов указать, есть ли отклонения ритма от нормы, а также для чего будет использоваться данная ФКГ (для обучения или для проверки качества прогноза) "
   ]
  },
  {
   "cell_type": "code",
   "execution_count": 1,
   "metadata": {},
   "outputs": [],
   "source": [
    "import os\n",
    "import pandas as pd\n",
    "import shutil"
   ]
  },
  {
   "cell_type": "markdown",
   "metadata": {},
   "source": [
    "Перед запуском следующего кода необходимо в текущей папке (в которой лежит ipynb файл) иметь папку с названием Data, в которой лежит две подпапки training и validation, загруженные по ссылкам https://archive.physionet.org/pn3/challenge/2016/training.zip и https://archive.physionet.org/pn3/challenge/2016/validation.zip соответственно."
   ]
  },
  {
   "cell_type": "code",
   "execution_count": 2,
   "metadata": {},
   "outputs": [],
   "source": [
    "path = os.getcwd() + \"/Data\"\n",
    "\n",
    "wav_filelist = []\n",
    "csv_filelist = []\n",
    "\n",
    "for root, dirs, files in os.walk(path):\n",
    "    for file in files:\n",
    "        if file.endswith('.wav'):\n",
    "            wav_filelist.append(os.path.join(root,file))\n",
    "        if file.endswith('.csv'):\n",
    "            csv_filelist.append(os.path.join(root,file))\n",
    "\n",
    "# for name in wav_filelist:\n",
    "#     print(name)\n",
    "# for name in csv_filelist:\n",
    "#     print(name)"
   ]
  },
  {
   "cell_type": "code",
   "execution_count": 3,
   "metadata": {},
   "outputs": [
    {
     "data": {
      "text/plain": [
       "3541"
      ]
     },
     "execution_count": 3,
     "metadata": {},
     "output_type": "execute_result"
    }
   ],
   "source": [
    "# Количество фонокардиограмм\n",
    "len(wav_filelist)"
   ]
  },
  {
   "cell_type": "markdown",
   "metadata": {},
   "source": [
    "Далее генерируется DataFrame с названием всех записей (фонокардиограмм) и соответствующим обозначением: -1 (ритм без отклонений от нормы) или  1 (ритм с отклонением от нормы)"
   ]
  },
  {
   "cell_type": "code",
   "execution_count": 4,
   "metadata": {},
   "outputs": [
    {
     "data": {
      "text/html": [
       "<div>\n",
       "<style scoped>\n",
       "    .dataframe tbody tr th:only-of-type {\n",
       "        vertical-align: middle;\n",
       "    }\n",
       "\n",
       "    .dataframe tbody tr th {\n",
       "        vertical-align: top;\n",
       "    }\n",
       "\n",
       "    .dataframe thead th {\n",
       "        text-align: right;\n",
       "    }\n",
       "</style>\n",
       "<table border=\"1\" class=\"dataframe\">\n",
       "  <thead>\n",
       "    <tr style=\"text-align: right;\">\n",
       "      <th></th>\n",
       "      <th>0</th>\n",
       "      <th>1</th>\n",
       "    </tr>\n",
       "  </thead>\n",
       "  <tbody>\n",
       "    <tr>\n",
       "      <th>0</th>\n",
       "      <td>b0001</td>\n",
       "      <td>-1</td>\n",
       "    </tr>\n",
       "    <tr>\n",
       "      <th>1</th>\n",
       "      <td>b0002</td>\n",
       "      <td>-1</td>\n",
       "    </tr>\n",
       "    <tr>\n",
       "      <th>2</th>\n",
       "      <td>b0003</td>\n",
       "      <td>-1</td>\n",
       "    </tr>\n",
       "    <tr>\n",
       "      <th>3</th>\n",
       "      <td>b0004</td>\n",
       "      <td>-1</td>\n",
       "    </tr>\n",
       "    <tr>\n",
       "      <th>4</th>\n",
       "      <td>b0005</td>\n",
       "      <td>-1</td>\n",
       "    </tr>\n",
       "    <tr>\n",
       "      <th>...</th>\n",
       "      <td>...</td>\n",
       "      <td>...</td>\n",
       "    </tr>\n",
       "    <tr>\n",
       "      <th>3536</th>\n",
       "      <td>e00622</td>\n",
       "      <td>1</td>\n",
       "    </tr>\n",
       "    <tr>\n",
       "      <th>3537</th>\n",
       "      <td>e00627</td>\n",
       "      <td>1</td>\n",
       "    </tr>\n",
       "    <tr>\n",
       "      <th>3538</th>\n",
       "      <td>e00648</td>\n",
       "      <td>1</td>\n",
       "    </tr>\n",
       "    <tr>\n",
       "      <th>3539</th>\n",
       "      <td>e00657</td>\n",
       "      <td>1</td>\n",
       "    </tr>\n",
       "    <tr>\n",
       "      <th>3540</th>\n",
       "      <td>e00670</td>\n",
       "      <td>1</td>\n",
       "    </tr>\n",
       "  </tbody>\n",
       "</table>\n",
       "<p>3541 rows × 2 columns</p>\n",
       "</div>"
      ],
      "text/plain": [
       "           0  1\n",
       "0      b0001 -1\n",
       "1      b0002 -1\n",
       "2      b0003 -1\n",
       "3      b0004 -1\n",
       "4      b0005 -1\n",
       "...      ... ..\n",
       "3536  e00622  1\n",
       "3537  e00627  1\n",
       "3538  e00648  1\n",
       "3539  e00657  1\n",
       "3540  e00670  1\n",
       "\n",
       "[3541 rows x 2 columns]"
      ]
     },
     "execution_count": 4,
     "metadata": {},
     "output_type": "execute_result"
    }
   ],
   "source": [
    "all_frames = []\n",
    "\n",
    "for path in csv_filelist:\n",
    "    all_frames.append(pd.read_csv(path, header=None))\n",
    "\n",
    "all_recordings = pd.concat(all_frames, ignore_index=True)\n",
    "\n",
    "all_recordings"
   ]
  },
  {
   "cell_type": "markdown",
   "metadata": {},
   "source": [
    "Далее создаётся папка PCG_recordings"
   ]
  },
  {
   "cell_type": "code",
   "execution_count": 5,
   "metadata": {},
   "outputs": [
    {
     "name": "stdout",
     "output_type": "stream",
     "text": [
      "Папка для записей ФКГ создана\n"
     ]
    }
   ],
   "source": [
    "path_for_recordings = os.getcwd()+'/PCG_recordings'\n",
    "if not os.path.exists(path_for_recordings):\n",
    "    os.makedirs(path_for_recordings)\n",
    "    print('Папка для записей ФКГ создана')\n",
    "else:\n",
    "    print('Папка для записей ФКГ уже существует')"
   ]
  },
  {
   "cell_type": "markdown",
   "metadata": {},
   "source": [
    "Копии всех фонокардиограмм помещаются в созданную папку PCG_recordings. Имя файлов задаётся в следующем формате: (1 или 0 - с отклонениями или без)_(имя файла из PhysioNet)_(test или train - запись будет использоваться для проверки или обучения).\n",
    "\n",
    "Пример: название файла 0_a0029_test.wav обозначает фонокардиограмму ритма без отклонений от нормы с названием a0029 в базе данных PhysioNet, и данный ритм будет использоваться только при проверке качества прогноза.\n",
    "\n",
    "Код исполняется около 2,5 минут (копии ФКГ помещаются в соответствующую папку). В дальнешем этот код может быть оптимизирован"
   ]
  },
  {
   "cell_type": "code",
   "execution_count": 6,
   "metadata": {},
   "outputs": [],
   "source": [
    "for i in range(len(all_recordings)):\n",
    "    \n",
    "    if all_recordings[1][i] == 1:\n",
    "        new_file_name = '1_'+all_recordings[0][i]\n",
    "    else:\n",
    "        new_file_name = '0_'+all_recordings[0][i]\n",
    "    \n",
    "    file_paths = [s for s in wav_filelist if all_recordings[0][i] in s]\n",
    "    \n",
    "    if len(file_paths) == 2:\n",
    "        old_file_path = [path for path in file_paths if 'valid' in path][0]\n",
    "        new_file_name = new_file_name + '_test.wav'\n",
    "    else:\n",
    "        old_file_path = file_paths[0]\n",
    "        new_file_name = new_file_name + '_train.wav'\n",
    "    \n",
    "    #print(new_file_name)\n",
    "    \n",
    "    shutil.copy2(old_file_path, os.getcwd() + '/PCG_recordings/' + new_file_name)"
   ]
  },
  {
   "cell_type": "code",
   "execution_count": null,
   "metadata": {},
   "outputs": [],
   "source": []
  }
 ],
 "metadata": {
  "kernelspec": {
   "display_name": "Python 3",
   "language": "python",
   "name": "python3"
  },
  "language_info": {
   "codemirror_mode": {
    "name": "ipython",
    "version": 3
   },
   "file_extension": ".py",
   "mimetype": "text/x-python",
   "name": "python",
   "nbconvert_exporter": "python",
   "pygments_lexer": "ipython3",
   "version": "3.8.3"
  }
 },
 "nbformat": 4,
 "nbformat_minor": 4
}
